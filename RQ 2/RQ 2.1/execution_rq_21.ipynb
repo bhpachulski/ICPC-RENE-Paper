{
 "metadata": {
  "language_info": {
   "codemirror_mode": {
    "name": "ipython",
    "version": 3
   },
   "file_extension": ".py",
   "mimetype": "text/x-python",
   "name": "python",
   "nbconvert_exporter": "python",
   "pygments_lexer": "ipython3",
   "version": "3.8.2-final"
  },
  "orig_nbformat": 2,
  "kernelspec": {
   "name": "python3",
   "display_name": "Python 3",
   "language": "python"
  }
 },
 "nbformat": 4,
 "nbformat_minor": 2,
 "cells": [
  {
   "cell_type": "code",
   "execution_count": 1,
   "metadata": {},
   "outputs": [],
   "source": [
    "import os\n",
    "import pandas as pd\n",
    "import re\n",
    "import csv\n",
    "import subprocess\n",
    "import numpy as np\n",
    "import arff\n",
    "import pickle\n",
    "from sklearn.metrics import f1_score\n",
    "from sklearn.metrics import confusion_matrix\n",
    "from sklearn.feature_extraction.text import CountVectorizer\n",
    "from sklearn.ensemble import RandomForestClassifier\n",
    "from sklearn.metrics import classification_report\n",
    "\n",
    "from sklearn.metrics import roc_auc_score\n",
    "from sklearn.metrics import matthews_corrcoef\n",
    "\n",
    "analisysData = []\n",
    "\n",
    "def weka_tokenizer(doc):\n",
    "    delimiters_regexp = re.compile(\"[ |\\n|\\f|\\r|\\t|.|,|;|:|'|\\\"|(|)|?|!]\")\n",
    "    return list(filter(None, delimiters_regexp.split(doc)))"
   ]
  },
  {
   "cell_type": "code",
   "execution_count": 2,
   "metadata": {},
   "outputs": [],
   "source": [
    "vocabularyFile = '../../RQ 1/RQ 1.1/vocabulary/MSR4FlakinessOriginal.dict'\n",
    "testDataset = '../../datasets/flakies_rq_21.csv'\n",
    "\n",
    "X_idFlakiesDataset = pd.read_csv(testDataset)\n",
    "y_idFlakiesDataset = X_idFlakiesDataset['klass']\n",
    "\n",
    "vocabulary = pickle.load(open(vocabularyFile, 'rb'))\n",
    "\n",
    "vectorizer = CountVectorizer(analyzer='word', max_features=1500, tokenizer=weka_tokenizer, vocabulary=vocabulary)\n",
    "bowToken = vectorizer.fit_transform(X_idFlakiesDataset['tokens'])\n",
    "bowData = pd.DataFrame(bowToken.toarray(), columns=vectorizer.get_feature_names())\n",
    "\n",
    "X_idFlakiesDataset.drop('tokens', axis=1, inplace=True)\n",
    "X_idFlakiesDataset = X_idFlakiesDataset.join(bowData)\n",
    "X_idFlakiesDataset.drop('klass', axis=1, inplace=True)\n",
    "X_idFlakiesDataset.drop('project', axis=1, inplace=True)\n",
    "\n",
    "# y_probs = classifier.predict_proba(X_idFlakiesDataset)[:,1]"
   ]
  },
  {
   "cell_type": "code",
   "execution_count": 3,
   "metadata": {},
   "outputs": [],
   "source": [
    "classifiers = {}\n",
    "\n",
    "for algSav in os.listdir(\"../../RQ 1/RQ 1.1/classifiers/\"):\n",
    "    classifiers[algSav.split('.')[0]] = pickle.load(open(\"../../RQ 1/RQ 1.1/classifiers/\" + algSav, 'rb'))"
   ]
  },
  {
   "cell_type": "code",
   "execution_count": 4,
   "metadata": {},
   "outputs": [
    {
     "output_type": "stream",
     "name": "stdout",
     "text": [
      "Test dataset: ../../datasets/flakies_rq_21.csv\n",
      "Vocabulary: ../../RQ 1/RQ 1.1/vocabulary/MSR4FlakinessOriginal.dict\n",
      "80 flakie samples\n",
      "1500 features \n",
      "\n",
      "   -  naiveBayes {'Validation Dataset': '../../datasets/flakies_rq_21.csv', 'Vocabulary': '../../RQ 1/RQ 1.1/vocabulary/MSR4FlakinessOriginal.dict', 'Classifier': 'naiveBayes', 'Precision': 1.0, 'Recall': 0.1125, 'F1-Score': 0.20224719101123595, 'Support': 80, 'Accuracy': 0.1125, 'MCC': 0.0, 'VP': '', 'FN': '9 71'}\n",
      "   -  knn {'Validation Dataset': '../../datasets/flakies_rq_21.csv', 'Vocabulary': '../../RQ 1/RQ 1.1/vocabulary/MSR4FlakinessOriginal.dict', 'Classifier': 'knn', 'Precision': 1.0, 'Recall': 0.1875, 'F1-Score': 0.3157894736842105, 'Support': 80, 'Accuracy': 0.1875, 'MCC': 0.0, 'VP': '15', 'FN': '65'}\n",
      "   -  logisticRegression {'Validation Dataset': '../../datasets/flakies_rq_21.csv', 'Vocabulary': '../../RQ 1/RQ 1.1/vocabulary/MSR4FlakinessOriginal.dict', 'Classifier': 'logisticRegression', 'Precision': 1.0, 'Recall': 0.675, 'F1-Score': 0.8059701492537313, 'Support': 80, 'Accuracy': 0.675, 'MCC': 0.0, 'VP': '54', 'FN': '26'}\n",
      "   -  perceptron {'Validation Dataset': '../../datasets/flakies_rq_21.csv', 'Vocabulary': '../../RQ 1/RQ 1.1/vocabulary/MSR4FlakinessOriginal.dict', 'Classifier': 'perceptron', 'Precision': 1.0, 'Recall': 0.5125, 'F1-Score': 0.6776859504132231, 'Support': 80, 'Accuracy': 0.5125, 'MCC': 0.0, 'VP': '41', 'FN': '39'}\n",
      "   -  decisionTree {'Validation Dataset': '../../datasets/flakies_rq_21.csv', 'Vocabulary': '../../RQ 1/RQ 1.1/vocabulary/MSR4FlakinessOriginal.dict', 'Classifier': 'decisionTree', 'Precision': 1.0, 'Recall': 0.1875, 'F1-Score': 0.3157894736842105, 'Support': 80, 'Accuracy': 0.1875, 'MCC': 0.0, 'VP': '15', 'FN': '65'}\n",
      "   -  smo {'Validation Dataset': '../../datasets/flakies_rq_21.csv', 'Vocabulary': '../../RQ 1/RQ 1.1/vocabulary/MSR4FlakinessOriginal.dict', 'Classifier': 'smo', 'Precision': 1.0, 'Recall': 0.2875, 'F1-Score': 0.44660194174757273, 'Support': 80, 'Accuracy': 0.2875, 'MCC': 0.0, 'VP': '23', 'FN': '57'}\n",
      "   -  randomForest {'Validation Dataset': '../../datasets/flakies_rq_21.csv', 'Vocabulary': '../../RQ 1/RQ 1.1/vocabulary/MSR4FlakinessOriginal.dict', 'Classifier': 'randomForest', 'Precision': 1.0, 'Recall': 0.075, 'F1-Score': 0.13953488372093023, 'Support': 80, 'Accuracy': 0.075, 'MCC': 0.0, 'VP': '', 'FN': '6 74'}\n",
      "   -  lda {'Validation Dataset': '../../datasets/flakies_rq_21.csv', 'Vocabulary': '../../RQ 1/RQ 1.1/vocabulary/MSR4FlakinessOriginal.dict', 'Classifier': 'lda', 'Precision': 1.0, 'Recall': 0.75, 'F1-Score': 0.8571428571428571, 'Support': 80, 'Accuracy': 0.75, 'MCC': 0.0, 'VP': '60', 'FN': '20'}\n"
     ]
    }
   ],
   "source": [
    "print('Test dataset:', testDataset)\n",
    "print('Vocabulary:', vocabularyFile)\n",
    "print(len(y_idFlakiesDataset), \"flakie samples\")\n",
    "print(len(vectorizer.vocabulary), \"features \\n\")\n",
    "\n",
    "for keyClassifier, classifier in classifiers.items():\n",
    "\n",
    "    predict = classifier.predict(X_idFlakiesDataset)\n",
    "\n",
    "    classificationReport = classification_report(y_idFlakiesDataset, predict, output_dict=True)['Flakey']\n",
    "    classifierScore = classifier.score(X_idFlakiesDataset, y_idFlakiesDataset)      \n",
    "\n",
    "    cmStr = confusion_matrix(y_idFlakiesDataset, predict)[0]\n",
    "\n",
    "    cm = re.sub('\\[|\\]', '', str(cmStr))\n",
    "\n",
    "    VP = cm.split(\" \", 1)[0] \n",
    "    FN = cm.split(\" \", 1)[1] \n",
    "\n",
    "    classifierResult = {\n",
    "        'Validation Dataset': testDataset, \n",
    "        'Vocabulary': vocabularyFile, \n",
    "        'Classifier': keyClassifier, \n",
    "        'Precision': classificationReport['precision'],\t\n",
    "        'Recall': classificationReport['recall'], \n",
    "        'F1-Score': classificationReport['f1-score'], \n",
    "        'Support': classificationReport['support'],\n",
    "        'Accuracy': classifierScore,\n",
    "        # 'AUC': roc_auc_score(y_idFlakiesDataset, y_probs),\n",
    "        'MCC': matthews_corrcoef(y_idFlakiesDataset, predict),\n",
    "        'VP': VP,\n",
    "        'FN': FN\n",
    "    }\n",
    "\n",
    "    print('   - ', keyClassifier, classifierResult)\n",
    "\n",
    "    analisysData.append(classifierResult)"
   ]
  },
  {
   "cell_type": "code",
   "execution_count": 5,
   "metadata": {},
   "outputs": [],
   "source": [
    "analisysDataCSV = pd.DataFrame(analisysData, columns=['Validation Dataset', 'Vocabulary', 'Training Dataset', 'Classifier', 'Precision',\t'Recall', 'F1-Score', 'Support', 'Accuracy', 'AUC', 'MCC', 'VP', 'FN'])\n",
    "analisysDataCSV.to_csv(\"execution_rq_21.csv\", index=False)"
   ]
  },
  {
   "cell_type": "code",
   "execution_count": null,
   "metadata": {},
   "outputs": [],
   "source": []
  }
 ]
}